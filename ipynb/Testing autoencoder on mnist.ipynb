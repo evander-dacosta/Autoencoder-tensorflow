{
 "cells": [
  {
   "cell_type": "code",
   "execution_count": 1,
   "metadata": {},
   "outputs": [],
   "source": [
    "import sys\n",
    "sys.path.append('..')\n",
    "import tensorflow as tf"
   ]
  },
  {
   "cell_type": "code",
   "execution_count": 2,
   "metadata": {},
   "outputs": [],
   "source": [
    "from model import Autoencoder\n",
    "from config import Config\n",
    "from main import plot_reconstruction, main"
   ]
  },
  {
   "cell_type": "code",
   "execution_count": 3,
   "metadata": {},
   "outputs": [
    {
     "name": "stdout",
     "output_type": "stream",
     "text": [
      "Extracting MNIST_data/train-images-idx3-ubyte.gz\n",
      "Extracting MNIST_data/train-labels-idx1-ubyte.gz\n",
      "Extracting MNIST_data/t10k-images-idx3-ubyte.gz\n",
      "Extracting MNIST_data/t10k-labels-idx1-ubyte.gz\n",
      "{'batchsize': 32, 'corruption': 0.4, 'hidden_activation': 'relu', 'hidden_shape': 32, 'input_shape': [None, 784], 'n_epochs': 20, 'name': 'mnist_mlp_1', 'output_activation': 'linear', 'tied_weights': True}\n"
     ]
    },
    {
     "name": "stderr",
     "output_type": "stream",
     "text": [
      "100%|██████████| 1718/1718 [00:03<00:00, 493.89it/s]\n",
      "  3%|▎         | 48/1718 [00:00<00:03, 479.35it/s]"
     ]
    },
    {
     "name": "stdout",
     "output_type": "stream",
     "text": [
      "Epoch 0, loss 0.20127157866954803\n"
     ]
    },
    {
     "name": "stderr",
     "output_type": "stream",
     "text": [
      "100%|██████████| 1718/1718 [00:03<00:00, 499.84it/s]\n",
      "  3%|▎         | 50/1718 [00:00<00:03, 494.36it/s]"
     ]
    },
    {
     "name": "stdout",
     "output_type": "stream",
     "text": [
      "Epoch 1, loss 0.14139452576637268\n"
     ]
    },
    {
     "name": "stderr",
     "output_type": "stream",
     "text": [
      "100%|██████████| 1718/1718 [00:03<00:00, 498.44it/s]\n",
      "  3%|▎         | 48/1718 [00:00<00:03, 473.82it/s]"
     ]
    },
    {
     "name": "stdout",
     "output_type": "stream",
     "text": [
      "Epoch 2, loss 0.13257883489131927\n"
     ]
    },
    {
     "name": "stderr",
     "output_type": "stream",
     "text": [
      "100%|██████████| 1718/1718 [00:03<00:00, 500.90it/s]\n",
      "  3%|▎         | 49/1718 [00:00<00:03, 486.76it/s]"
     ]
    },
    {
     "name": "stdout",
     "output_type": "stream",
     "text": [
      "Epoch 3, loss 0.127345472574234\n"
     ]
    },
    {
     "name": "stderr",
     "output_type": "stream",
     "text": [
      "100%|██████████| 1718/1718 [00:03<00:00, 508.62it/s]\n",
      "  3%|▎         | 49/1718 [00:00<00:03, 482.62it/s]"
     ]
    },
    {
     "name": "stdout",
     "output_type": "stream",
     "text": [
      "Epoch 4, loss 0.12378229945898056\n"
     ]
    },
    {
     "name": "stderr",
     "output_type": "stream",
     "text": [
      "100%|██████████| 1718/1718 [00:03<00:00, 511.46it/s]\n",
      "  3%|▎         | 48/1718 [00:00<00:03, 477.35it/s]"
     ]
    },
    {
     "name": "stdout",
     "output_type": "stream",
     "text": [
      "Epoch 5, loss 0.12181533873081207\n"
     ]
    },
    {
     "name": "stderr",
     "output_type": "stream",
     "text": [
      "100%|██████████| 1718/1718 [00:03<00:00, 510.55it/s]\n",
      "  3%|▎         | 47/1718 [00:00<00:03, 468.10it/s]"
     ]
    },
    {
     "name": "stdout",
     "output_type": "stream",
     "text": [
      "Epoch 6, loss 0.12073461711406708\n"
     ]
    },
    {
     "name": "stderr",
     "output_type": "stream",
     "text": [
      "100%|██████████| 1718/1718 [00:03<00:00, 510.56it/s]\n",
      "  3%|▎         | 47/1718 [00:00<00:03, 467.49it/s]"
     ]
    },
    {
     "name": "stdout",
     "output_type": "stream",
     "text": [
      "Epoch 7, loss 0.12016436457633972\n"
     ]
    },
    {
     "name": "stderr",
     "output_type": "stream",
     "text": [
      "100%|██████████| 1718/1718 [00:03<00:00, 506.62it/s]\n",
      "  3%|▎         | 49/1718 [00:00<00:03, 484.28it/s]"
     ]
    },
    {
     "name": "stdout",
     "output_type": "stream",
     "text": [
      "Epoch 8, loss 0.11984123289585114\n"
     ]
    },
    {
     "name": "stderr",
     "output_type": "stream",
     "text": [
      "100%|██████████| 1718/1718 [00:03<00:00, 511.99it/s]\n",
      "  3%|▎         | 48/1718 [00:00<00:03, 479.48it/s]"
     ]
    },
    {
     "name": "stdout",
     "output_type": "stream",
     "text": [
      "Epoch 9, loss 0.11936312913894653\n"
     ]
    },
    {
     "name": "stderr",
     "output_type": "stream",
     "text": [
      "100%|██████████| 1718/1718 [00:03<00:00, 512.19it/s]\n",
      "  3%|▎         | 47/1718 [00:00<00:03, 462.91it/s]"
     ]
    },
    {
     "name": "stdout",
     "output_type": "stream",
     "text": [
      "Epoch 10, loss 0.11906567960977554\n"
     ]
    },
    {
     "name": "stderr",
     "output_type": "stream",
     "text": [
      "100%|██████████| 1718/1718 [00:03<00:00, 511.32it/s]\n",
      "  3%|▎         | 49/1718 [00:00<00:03, 483.38it/s]"
     ]
    },
    {
     "name": "stdout",
     "output_type": "stream",
     "text": [
      "Epoch 11, loss 0.11899041384458542\n"
     ]
    },
    {
     "name": "stderr",
     "output_type": "stream",
     "text": [
      "100%|██████████| 1718/1718 [00:03<00:00, 514.07it/s]\n",
      "  3%|▎         | 49/1718 [00:00<00:03, 482.74it/s]"
     ]
    },
    {
     "name": "stdout",
     "output_type": "stream",
     "text": [
      "Epoch 12, loss 0.11879188567399979\n"
     ]
    },
    {
     "name": "stderr",
     "output_type": "stream",
     "text": [
      "100%|██████████| 1718/1718 [00:03<00:00, 513.53it/s]\n",
      "  3%|▎         | 48/1718 [00:00<00:03, 477.26it/s]"
     ]
    },
    {
     "name": "stdout",
     "output_type": "stream",
     "text": [
      "Epoch 13, loss 0.11861629039049149\n"
     ]
    },
    {
     "name": "stderr",
     "output_type": "stream",
     "text": [
      "100%|██████████| 1718/1718 [00:03<00:00, 511.75it/s]\n",
      "  3%|▎         | 49/1718 [00:00<00:03, 483.00it/s]"
     ]
    },
    {
     "name": "stdout",
     "output_type": "stream",
     "text": [
      "Epoch 14, loss 0.11849863827228546\n"
     ]
    },
    {
     "name": "stderr",
     "output_type": "stream",
     "text": [
      "100%|██████████| 1718/1718 [00:03<00:00, 514.57it/s]\n",
      "  3%|▎         | 50/1718 [00:00<00:03, 494.30it/s]"
     ]
    },
    {
     "name": "stdout",
     "output_type": "stream",
     "text": [
      "Epoch 15, loss 0.1183391585946083\n"
     ]
    },
    {
     "name": "stderr",
     "output_type": "stream",
     "text": [
      "100%|██████████| 1718/1718 [00:03<00:00, 512.78it/s]\n",
      "  3%|▎         | 49/1718 [00:00<00:03, 484.69it/s]"
     ]
    },
    {
     "name": "stdout",
     "output_type": "stream",
     "text": [
      "Epoch 16, loss 0.11831346899271011\n"
     ]
    },
    {
     "name": "stderr",
     "output_type": "stream",
     "text": [
      "100%|██████████| 1718/1718 [00:03<00:00, 511.49it/s]\n",
      "  3%|▎         | 49/1718 [00:00<00:03, 489.10it/s]"
     ]
    },
    {
     "name": "stdout",
     "output_type": "stream",
     "text": [
      "Epoch 17, loss 0.11819411814212799\n"
     ]
    },
    {
     "name": "stderr",
     "output_type": "stream",
     "text": [
      "100%|██████████| 1718/1718 [00:03<00:00, 514.02it/s]\n",
      "  3%|▎         | 49/1718 [00:00<00:03, 482.37it/s]"
     ]
    },
    {
     "name": "stdout",
     "output_type": "stream",
     "text": [
      "Epoch 18, loss 0.11815990507602692\n"
     ]
    },
    {
     "name": "stderr",
     "output_type": "stream",
     "text": [
      "100%|██████████| 1718/1718 [00:03<00:00, 511.89it/s]\n"
     ]
    },
    {
     "name": "stdout",
     "output_type": "stream",
     "text": [
      "Epoch 19, loss 0.11806348711252213\n",
      "[*] Saving a checkpoint\n",
      "[*] Finished Training\n"
     ]
    }
   ],
   "source": [
    "model, mnist = main(_)"
   ]
  },
  {
   "cell_type": "code",
   "execution_count": 5,
   "metadata": {},
   "outputs": [
    {
     "data": {
      "image/png": "[encoded data removed]",
      "text/plain": [
       "<matplotlib.figure.Figure at 0x10756cb00>"
      ]
     },
     "metadata": {},
     "output_type": "display_data"
    }
   ],
   "source": [
    "plot_reconstruction(model, mnist.test.images, 0)"
   ]
  },
  {
   "cell_type": "code",
   "execution_count": 6,
   "metadata": {},
   "outputs": [
    {
     "data": {
      "image/png": "[encoded data removed]",
      "text/plain": [
       "<matplotlib.figure.Figure at 0x1a244c8518>"
      ]
     },
     "metadata": {},
     "output_type": "display_data"
    }
   ],
   "source": [
    "plot_reconstruction(model, mnist.test.images, 15)"
   ]
  },
  {
   "cell_type": "code",
   "execution_count": null,
   "metadata": {
    "collapsed": true
   },
   "outputs": [],
   "source": []
  }
 ],
 "metadata": {
  "kernelspec": {
   "display_name": "Python 3",
   "language": "python",
   "name": "python3"
  },
  "language_info": {
   "codemirror_mode": {
    "name": "ipython",
    "version": 3
   },
   "file_extension": ".py",
   "mimetype": "text/x-python",
   "name": "python",
   "nbconvert_exporter": "python",
   "pygments_lexer": "ipython3",
   "version": "3.6.3"
  }
 },
 "nbformat": 4,
 "nbformat_minor": 2
}
